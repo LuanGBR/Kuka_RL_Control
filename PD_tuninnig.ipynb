{
 "cells": [
  {
   "cell_type": "code",
   "execution_count": 101,
   "metadata": {},
   "outputs": [],
   "source": [
    "import mujoco\n",
    "import mujoco_viewer\n",
    "import random\n",
    "import os\n",
    "import time\n",
    "import numpy as np\n",
    "import matplotlib.pyplot as plt"
   ]
  },
  {
   "cell_type": "code",
   "execution_count": 102,
   "metadata": {},
   "outputs": [],
   "source": [
    "\n",
    "viewer = mujoco_viewer.MujocoViewer(model, data,\"offscreen\")\n",
    "mujoco.mj_forward(model, data)\n",
    "img = viewer.read_pixels(camid=0)\n",
    "\n",
    "\n"
   ]
  },
  {
   "cell_type": "code",
   "execution_count": 103,
   "metadata": {},
   "outputs": [
    {
     "data": {
      "text/plain": [
       "<matplotlib.image.AxesImage at 0x7f19a6f773d0>"
      ]
     },
     "execution_count": 103,
     "metadata": {},
     "output_type": "execute_result"
    },
    {
     "data": {
      "image/png": "[encoded data removed]",
      "text/plain": [
       "<Figure size 432x288 with 1 Axes>"
      ]
     },
     "metadata": {
      "needs_background": "light"
     },
     "output_type": "display_data"
    }
   ],
   "source": [
    "plt.imshow(img)"
   ]
  },
  {
   "cell_type": "code",
   "execution_count": 117,
   "metadata": {},
   "outputs": [],
   "source": [
    "def step_input(model,data):\n",
    "    mujoco.mj_resetData(model, data)\n",
    "\n",
    "    \n",
    "    data.actuator(\"a6_intvel\").ctrl = 5.0\n",
    "    result = {\"qpos\":[data.joint(\"joint_a6\").qpos[0]], \"qvel\":[data.joint(\"joint_a6\").qvel[0]], \"ctrlvel\":[data.ctrl[0]], \"time\":[data.time]}\n",
    "    start = time.time()\n",
    "    for _ in range(500):\n",
    "        mujoco.mj_step(model,data)\n",
    "        result[\"qpos\"].append(data.qpos[0])\n",
    "        result[\"qvel\"].append(data.qvel[0])\n",
    "        result[\"ctrlvel\"].append(data.actuator(\"a6_intvel\").ctrl[0])\n",
    "        result[\"time\"].append(data.time)\n",
    "        if data.ctrl[0] and data.qpos[0] >= 5:\n",
    "            data.actuator(\"a6_intvel\").ctrl = 0.0\n",
    "\n",
    "\n",
    "    end = time.time()\n",
    "    print(\"time: \", end-start)\n",
    "    return result\n"
   ]
  },
  {
   "cell_type": "code",
   "execution_count": 118,
   "metadata": {},
   "outputs": [],
   "source": [
    "def set_kp(kp):\n",
    "    xml_string=f\"\"\"<mujoco model=\"kuka_kr16_2\">\n",
    "\n",
    "    <asset>\n",
    "        <mesh name=\"base_link\" file=\"base_link.stl\" />\n",
    "        <mesh name=\"link_1\" file=\"link_1.stl\" />\n",
    "        <mesh name=\"link_2\" file=\"link_2.stl\" />\n",
    "        <mesh name=\"link_3\" file=\"link_3.stl\" />\n",
    "        <mesh name=\"link_4\" file=\"link_4.stl\" />\n",
    "        <mesh name=\"link_5\" file=\"link_5.stl\" />\n",
    "        <mesh name=\"link_6\" file=\"link_6.stl\" />\n",
    "        <mesh name=\"cestinho\" file=\"cestinho.stl\"  scale=\"0.001 0.001 0.001\"/>\n",
    "    </asset>\n",
    "\n",
    "\n",
    "    <worldbody>\n",
    "        <body name=\"base\">\n",
    "            <geom type=\"mesh\" mesh=\"base_link\" rgba=\"0.1 0.1 0.1 1\" />\n",
    "            <body name=\"link_1\" pos=\"0 0 0.675\" >\n",
    "                <!-- <inertial pos=\"0 0 0\" mass=\"0.000001\" diaginertia=\"0.01 0.01 0.01\" /> -->\n",
    "                <!-- <joint name=\"joint_a1\" pos=\"0 0 0\" axis=\"0 0 1\" limited=\"true\" range=\"-3.22886 3.22886\" /> -->\n",
    "                <geom type=\"mesh\" mesh=\"link_1\" rgba=\"0.95 0.36 0.1 1\"/>\n",
    "                <body name=\"link_2\" pos=\"0.26 0 0\">\n",
    "                    <!-- <inertial pos=\"0 0 0\" mass=\"0.000001\" diaginertia=\"0.01 0.01 0.01\" /> -->\n",
    "                    <!-- <joint name=\"joint_a2\" pos=\"0 0 0\" axis=\"0 1 0\" limited=\"true\" range=\"-2.70526 0.610865\"  /> -->\n",
    "                    <geom type=\"mesh\" mesh=\"link_2\" rgba=\"0.95 0.36 0.1 1\"/>\n",
    "                    <body name=\"link_3\" pos=\"0.68 0 0\">\n",
    "                        <!-- <inertial pos=\"0 0 0\" mass=\"0.000001\" diaginertia=\"0.01 0.01 0.01\" /> -->\n",
    "                        <!-- <joint name=\"joint_a3\" pos=\"0 0 0\" axis=\"0 1 0\" limited=\"true\" range=\"-2.26893 2.68781\" /> -->\n",
    "                        <geom type=\"mesh\" mesh=\"link_3\" rgba=\"0.95 0.36 0.1 1\"/>\n",
    "                        <body name=\"link_4\" pos=\"0.67 0 -0.035\">\n",
    "                            <!-- <inertial pos=\"0 0 0\" mass=\"0.000001\" diaginertia=\"0.01 0.01 0.01\" /> -->\n",
    "                            <!-- <joint name=\"joint_a4\" pos=\"0 0 0\" axis=\"-1 0 0\" limited=\"true\" range=\"-6.10865 6.10865\"/> -->\n",
    "                            <geom type=\"mesh\" mesh=\"link_4\" rgba=\"0.95 0.36 0.1 1\" />\n",
    "                            <body name=\"link_5\" pos=\"0 0 0\">\n",
    "                                <!-- <inertial pos=\"0 0 0\" mass=\"0.000001\" diaginertia=\"0.01 0.01 0.01\" /> -->\n",
    "                                <!-- <joint name=\"joint_a5\" pos=\"0 0 0\" axis=\"0 1 0\" limited=\"true\" range=\"-2.26893 2.26893\" /> -->\n",
    "                                <geom type=\"mesh\" mesh=\"link_5\" rgba=\"0.95 0.36 0.1 1\"/>\n",
    "                                <body name=\"link_6\" pos=\"0 0 0\">\n",
    "                                    <!-- <inertial pos=\"0 0 0\" mass=\"0.000001\" diaginertia=\"0.01 0.01 0.01\" /> -->\n",
    "                                    <joint name=\"joint_a6\" pos=\"0 0 0\" axis=\"-1 0 0\" limited=\"true\" range=\"-6.10865 6.10865\"  />\n",
    "                                    <geom type=\"mesh\" mesh=\"link_6\" rgba=\"0.95 0.36 0.1 1\"/>\n",
    "                                    <body name=\"cestinho\" pos=\"0.155 0 0\">\n",
    "                                        <!-- <inertial pos=\"0 0 0\" mass=\"0.000001\" diaginertia=\"0.01 0.01 0.01\" /> -->\n",
    "                                        <geom type=\"mesh\" mesh=\"cestinho\" rgba=\"0.95 0.36 0.1 1\" xyaxes=\"0 1 0 0 0 1\"/>\n",
    "                                    </body>\n",
    "                                </body>\n",
    "                            </body>\n",
    "                        </body>\n",
    "                    </body>\n",
    "                </body>\n",
    "            </body>\n",
    "        </body>\n",
    "    </worldbody>\n",
    "    <actuator >\n",
    "                <!-- <position name=\"a1_pos\" joint=\"joint_a1\" ctrllimited=\"true\" ctrlrange=\"-3.22886 3.22886\" gear=\"1\" kp=\"1\"/> -->\n",
    "                <!-- <position name=\"a2_pos\" joint=\"joint_a2\" ctrllimited=\"true\" ctrlrange=\"-2.70526 0.610865\" gear=\"1\" kp=\"1\"/> -->\n",
    "                <!-- <position name=\"a3_pos\" joint=\"joint_a3\" ctrllimited=\"true\" ctrlrange=\"-2.26893 2.68781\" gear=\"1\" kp=\"1\"/> -->\n",
    "                <!-- <position name=\"a4_pos\" joint=\"joint_a4\" ctrllimited=\"true\" ctrlrange=\"-6.10865 6.10865\" gear=\"1\" kp=\"1\"/> -->\n",
    "                <!-- <position name=\"a5_pos\" joint=\"joint_a5\" ctrllimited=\"true\" ctrlrange=\"-2.26893 2.26893\" gear=\"1\" kp=\"1\"/> -->\n",
    "                <!-- <position name=\"a6_pos\" joint=\"joint_a6\" ctrllimited=\"true\" ctrlrange=\"-6.10865 6.10865\" gear=\"1\" kp=\"2\"/> -->\n",
    "\n",
    "                <!-- <velocity name=\"a1_vel\" joint=\"joint_a1\" ctrllimited=\"true\" ctrlrange=\"-2.72271363311 2.72271363311\" gear=\"1\" kv=\"1\"/> -->\n",
    "                <!-- <velocity name=\"a2_vel\" joint=\"joint_a2\" ctrllimited=\"true\" ctrlrange=\"-2.72271363311 2.72271363311\" gear=\"1\" kv=\"1\"/> -->\n",
    "                <!-- <velocity name=\"a3_vel\" joint=\"joint_a2\" ctrllimited=\"true\" ctrlrange=\"-2.72271363311 2.72271363311\" gear=\"1\" kv=\"1\"/> -->\n",
    "                <!-- <velocity name=\"a4_vel\" joint=\"joint_a4\" ctrllimited=\"true\" ctrlrange=\"-5.75958653158 5.75958653158\" gear=\"1\" kv=\"1\"/> -->\n",
    "                <!-- <velocity name=\"a5_vel\" joint=\"joint_a5\" ctrllimited=\"true\" ctrlrange=\"-5.75958653158 5.75958653158\" gear=\"1\" kv=\"1\"/> -->\n",
    "                <intvelocity name=\"a6_intvel\" joint=\"joint_a6\" ctrllimited=\"true\" actrange=\"-6.10865 6.10865\" ctrlrange=\"-10.7337748998 10.7337748998\" kp=\"{kp}\"/>\n",
    "\n",
    "\n",
    "\n",
    "    </actuator>\n",
    "    <contact>\n",
    "        <exclude name=\"exclude_2_body_0\" body1=\"base\" body2=\"link_1\"/>\n",
    "        <exclude name=\"exclude_6_body_5\" body1=\"link_5\" body2=\"link_6\"/>\n",
    "       \n",
    "</contact>\n",
    "</mujoco>\n",
    "\n",
    "\n",
    "\"\"\"\n",
    "    with open(\"/home/luangb/Documents/TCC/Kuka_RL_Control/kr16_2.xml\", \"w\") as f:\n",
    "        f.write(xml_string)\n",
    "\n",
    "\n",
    "\n"
   ]
  },
  {
   "cell_type": "code",
   "execution_count": 119,
   "metadata": {},
   "outputs": [],
   "source": [
    "def test_values(kp, kv):\n",
    "    set_kp(kp)\n",
    "    model = mujoco.MjModel.from_xml_path(\"/home/luangb/Documents/TCC/Kuka_RL_Control/environment.xml\")\n",
    "    data = mujoco.MjData(model)\n",
    "    result = step_input(model,data)\n",
    "    plt.plot(result[\"time\"], result[\"qpos\"], label=\"qpos\")\n",
    "    # plt.plot(result[\"time\"], result[\"qvel\"], label=\"qvel\")\n",
    "    # plt.plot(result[\"time\"], result[\"ctrlpos\"], label=\"ctrlpos\")\n",
    "    plt.plot(result[\"time\"], result[\"ctrlvel\"], label=\"ctrlvel\")\n",
    "    plt.grid()\n",
    "    print(\"last_pos\", result[\"qpos\"][-1])\n",
    "    plt.legend()\n",
    "    plt.show()\n",
    "    viewer = mujoco_viewer.MujocoViewer(model, data,\"offscreen\")\n",
    "    mujoco.mj_forward(model, data)\n",
    "    img = viewer.read_pixels(camid=0)\n",
    "    plt.imshow(img)\n",
    "    return result\n",
    "\n",
    "\n",
    "    \n",
    "    "
   ]
  },
  {
   "cell_type": "code",
   "execution_count": 120,
   "metadata": {},
   "outputs": [
    {
     "name": "stdout",
     "output_type": "stream",
     "text": [
      "time:  0.04964280128479004\n",
      "last_pos 5.0008215666918225\n"
     ]
    },
    {
     "data": {
      "image/png": "[encoded data removed]",
      "text/plain": [
       "<Figure size 432x288 with 1 Axes>"
      ]
     },
     "metadata": {
      "needs_background": "light"
     },
     "output_type": "display_data"
    },
    {
     "data": {
      "image/png": "[encoded data removed]",
      "text/plain": [
       "<Figure size 432x288 with 1 Axes>"
      ]
     },
     "metadata": {
      "needs_background": "light"
     },
     "output_type": "display_data"
    }
   ],
   "source": [
    "r=test_values(2000,0)"
   ]
  },
  {
   "cell_type": "code",
   "execution_count": 108,
   "metadata": {},
   "outputs": [],
   "source": [
    "ss_pos = r[\"qpos\"][400:-1]"
   ]
  },
  {
   "cell_type": "code",
   "execution_count": 70,
   "metadata": {},
   "outputs": [
    {
     "data": {
      "text/plain": [
       "15.628135725609786"
      ]
     },
     "execution_count": 70,
     "metadata": {},
     "output_type": "execute_result"
    }
   ],
   "source": [
    "(max(ss_pos)-min(ss_pos))/np.pi * 180"
   ]
  },
  {
   "cell_type": "code",
   "execution_count": 89,
   "metadata": {},
   "outputs": [],
   "source": [
    "def test_best_kp():\n",
    "    kp_list = np.linspace(0, 5000, 200)\n",
    "    result = []\n",
    "    for kp in kp_list:\n",
    "        r = test_values(kp, 0)\n",
    "        ss_pos = r[\"qpos\"][400:-1]\n",
    "        result.append((max(ss_pos)-min(ss_pos))/np.pi * 180)\n",
    "        # print(kp, result[-1])\n",
    "    plt.plot(kp_list, result)\n",
    "    plt.grid()\n",
    "    plt.show()\n",
    "    return result"
   ]
  },
  {
   "cell_type": "code",
   "execution_count": 90,
   "metadata": {},
   "outputs": [
    {
     "data": {
      "image/png": "[encoded data removed]",
      "text/plain": [
       "<Figure size 432x288 with 1 Axes>"
      ]
     },
     "metadata": {
      "needs_background": "light"
     },
     "output_type": "display_data"
    }
   ],
   "source": [
    "deviations=test_best_kp()"
   ]
  },
  {
   "cell_type": "code",
   "execution_count": 60,
   "metadata": {},
   "outputs": [
    {
     "name": "stdout",
     "output_type": "stream",
     "text": [
      "102 0.5264779337845001\n"
     ]
    },
    {
     "data": {
      "text/plain": [
       "1969.8492462311558"
      ]
     },
     "execution_count": 60,
     "metadata": {},
     "output_type": "execute_result"
    }
   ],
   "source": [
    "deviations = deviations[10:-1]\n",
    "print(np.argmin(deviations), np.min(deviations))\n",
    "np.linspace(0, 3500, 200)[10:-1][np.argmin(deviations)]"
   ]
  },
  {
   "cell_type": "code",
   "execution_count": 28,
   "metadata": {},
   "outputs": [],
   "source": [
    "cam=model.cam(\"depth_camera0\")"
   ]
  },
  {
   "cell_type": "code",
   "execution_count": 16,
   "metadata": {},
   "outputs": [
    {
     "ename": "AttributeError",
     "evalue": "module 'mujoco' has no attribute 'mjv_makeScene'",
     "output_type": "error",
     "traceback": [
      "\u001b[0;31m---------------------------------------------------------------------------\u001b[0m",
      "\u001b[0;31mAttributeError\u001b[0m                            Traceback (most recent call last)",
      "\u001b[0;32m/tmp/ipykernel_50822/521297920.py\u001b[0m in \u001b[0;36m<cell line: 1>\u001b[0;34m()\u001b[0m\n\u001b[0;32m----> 1\u001b[0;31m \u001b[0mmujoco\u001b[0m\u001b[0;34m.\u001b[0m\u001b[0mmjv_makeScene\u001b[0m\u001b[0;34m(\u001b[0m\u001b[0mmodel\u001b[0m\u001b[0;34m,\u001b[0m \u001b[0mdata\u001b[0m\u001b[0;34m,\u001b[0m \u001b[0;36m0\u001b[0m\u001b[0;34m)\u001b[0m\u001b[0;34m\u001b[0m\u001b[0;34m\u001b[0m\u001b[0m\n\u001b[0m",
      "\u001b[0;31mAttributeError\u001b[0m: module 'mujoco' has no attribute 'mjv_makeScene'"
     ]
    }
   ],
   "source": [
    "mujoco.mjv_makeScene(model, data, 0)"
   ]
  },
  {
   "cell_type": "code",
   "execution_count": 17,
   "metadata": {},
   "outputs": [],
   "source": [
    "ctx=mujoco.GLContext(1920, 1080)"
   ]
  },
  {
   "cell_type": "code",
   "execution_count": 18,
   "metadata": {},
   "outputs": [],
   "source": [
    "ctx.make_current()"
   ]
  },
  {
   "cell_type": "code",
   "execution_count": 26,
   "metadata": {},
   "outputs": [],
   "source": [
    "scn=mujoco.MjvScene(model,1000)"
   ]
  },
  {
   "cell_type": "code",
   "execution_count": 29,
   "metadata": {},
   "outputs": [
    {
     "ename": "AttributeError",
     "evalue": "module 'mujoco' has no attribute 'update_scene'",
     "output_type": "error",
     "traceback": [
      "\u001b[0;31m---------------------------------------------------------------------------\u001b[0m",
      "\u001b[0;31mAttributeError\u001b[0m                            Traceback (most recent call last)",
      "\u001b[0;32m/tmp/ipykernel_50822/2245433352.py\u001b[0m in \u001b[0;36m<cell line: 1>\u001b[0;34m()\u001b[0m\n\u001b[0;32m----> 1\u001b[0;31m \u001b[0mmujoco\u001b[0m\u001b[0;34m.\u001b[0m\u001b[0mupdate_scene\u001b[0m\u001b[0;34m(\u001b[0m\u001b[0mmodel\u001b[0m\u001b[0;34m,\u001b[0m \u001b[0mdata\u001b[0m\u001b[0;34m,\u001b[0m \u001b[0mscn\u001b[0m\u001b[0;34m,\u001b[0m \u001b[0mcam\u001b[0m\u001b[0;34m)\u001b[0m\u001b[0;34m\u001b[0m\u001b[0;34m\u001b[0m\u001b[0m\n\u001b[0m",
      "\u001b[0;31mAttributeError\u001b[0m: module 'mujoco' has no attribute 'update_scene'"
     ]
    }
   ],
   "source": [
    "mujoco.update_scene(model, data, scn, cam)"
   ]
  },
  {
   "cell_type": "code",
   "execution_count": 34,
   "metadata": {},
   "outputs": [
    {
     "ename": "TypeError",
     "evalue": "mjv_updateScene(): incompatible function arguments. The following argument types are supported:\n    1. (m: mujoco._structs.MjModel, d: mujoco._structs.MjData, opt: mujoco._structs.MjvOption, pert: Optional[mujoco._structs.MjvPerturb], cam: mujoco._structs.MjvCamera, catmask: int, scn: mujoco._structs.MjvScene) -> None\n\nInvoked with: <mujoco._structs.MjModel object at 0x7f49f2755770>, <mujoco._structs.MjData object at 0x7f49f256b970>, <MjvOption\n  actuatorgroup: array([1, 1, 1, 0, 0, 0], dtype=uint8)\n  flags: array([0, 1, 0, 0, 0, 0, 0, 1, 1, 0, 0, 0, 0, 1, 0, 0, 0, 0, 0, 0, 0, 1,\n       1], dtype=uint8)\n  frame: 0\n  geomgroup: array([1, 1, 1, 0, 0, 0], dtype=uint8)\n  jointgroup: array([1, 1, 1, 0, 0, 0], dtype=uint8)\n  label: 0\n  sitegroup: array([1, 1, 1, 0, 0, 0], dtype=uint8)\n  skingroup: array([1, 1, 1, 0, 0, 0], dtype=uint8)\n  tendongroup: array([1, 1, 1, 0, 0, 0], dtype=uint8)\n>, None, <_MjModelCameraViews\n  bodyid: array([0], dtype=int32)\n  fovy: array([58.])\n  id: 0\n  ipd: array([0.05])\n  mat0: array([0., 0., 1., 1., 0., 0., 0., 1., 0.])\n  mode: array([0], dtype=int32)\n  name: 'depth_camera0'\n  pos: array([3. , 0. , 0.7])\n  pos0: array([3. , 0. , 0.7])\n  poscom0: array([2.69367578, 0.01172623, 0.28206348])\n  quat: array([0.5, 0.5, 0.5, 0.5])\n  targetbodyid: array([-1], dtype=int32)\n  user: array([], dtype=float64)\n>, 1, <mujoco._structs.MjvScene object at 0x7f49f23b1670>",
     "output_type": "error",
     "traceback": [
      "\u001b[0;31m---------------------------------------------------------------------------\u001b[0m",
      "\u001b[0;31mTypeError\u001b[0m                                 Traceback (most recent call last)",
      "\u001b[0;32m/tmp/ipykernel_50822/3720155645.py\u001b[0m in \u001b[0;36m<cell line: 2>\u001b[0;34m()\u001b[0m\n\u001b[1;32m      1\u001b[0m \u001b[0mopt\u001b[0m\u001b[0;34m=\u001b[0m\u001b[0mmujoco\u001b[0m\u001b[0;34m.\u001b[0m\u001b[0mMjvOption\u001b[0m\u001b[0;34m(\u001b[0m\u001b[0;34m)\u001b[0m\u001b[0;34m\u001b[0m\u001b[0;34m\u001b[0m\u001b[0m\n\u001b[0;32m----> 2\u001b[0;31m \u001b[0mmujoco\u001b[0m\u001b[0;34m.\u001b[0m\u001b[0mmjv_updateScene\u001b[0m\u001b[0;34m(\u001b[0m\u001b[0mmodel\u001b[0m\u001b[0;34m,\u001b[0m \u001b[0mdata\u001b[0m\u001b[0;34m,\u001b[0m\u001b[0mopt\u001b[0m\u001b[0;34m,\u001b[0m\u001b[0;32mNone\u001b[0m\u001b[0;34m,\u001b[0m\u001b[0mcam\u001b[0m\u001b[0;34m,\u001b[0m\u001b[0;36m1\u001b[0m\u001b[0;34m,\u001b[0m\u001b[0mscn\u001b[0m\u001b[0;34m)\u001b[0m\u001b[0;34m\u001b[0m\u001b[0;34m\u001b[0m\u001b[0m\n\u001b[0m",
      "\u001b[0;31mTypeError\u001b[0m: mjv_updateScene(): incompatible function arguments. The following argument types are supported:\n    1. (m: mujoco._structs.MjModel, d: mujoco._structs.MjData, opt: mujoco._structs.MjvOption, pert: Optional[mujoco._structs.MjvPerturb], cam: mujoco._structs.MjvCamera, catmask: int, scn: mujoco._structs.MjvScene) -> None\n\nInvoked with: <mujoco._structs.MjModel object at 0x7f49f2755770>, <mujoco._structs.MjData object at 0x7f49f256b970>, <MjvOption\n  actuatorgroup: array([1, 1, 1, 0, 0, 0], dtype=uint8)\n  flags: array([0, 1, 0, 0, 0, 0, 0, 1, 1, 0, 0, 0, 0, 1, 0, 0, 0, 0, 0, 0, 0, 1,\n       1], dtype=uint8)\n  frame: 0\n  geomgroup: array([1, 1, 1, 0, 0, 0], dtype=uint8)\n  jointgroup: array([1, 1, 1, 0, 0, 0], dtype=uint8)\n  label: 0\n  sitegroup: array([1, 1, 1, 0, 0, 0], dtype=uint8)\n  skingroup: array([1, 1, 1, 0, 0, 0], dtype=uint8)\n  tendongroup: array([1, 1, 1, 0, 0, 0], dtype=uint8)\n>, None, <_MjModelCameraViews\n  bodyid: array([0], dtype=int32)\n  fovy: array([58.])\n  id: 0\n  ipd: array([0.05])\n  mat0: array([0., 0., 1., 1., 0., 0., 0., 1., 0.])\n  mode: array([0], dtype=int32)\n  name: 'depth_camera0'\n  pos: array([3. , 0. , 0.7])\n  pos0: array([3. , 0. , 0.7])\n  poscom0: array([2.69367578, 0.01172623, 0.28206348])\n  quat: array([0.5, 0.5, 0.5, 0.5])\n  targetbodyid: array([-1], dtype=int32)\n  user: array([], dtype=float64)\n>, 1, <mujoco._structs.MjvScene object at 0x7f49f23b1670>"
     ]
    }
   ],
   "source": [
    "opt=mujoco.MjvOption()\n",
    "mujoco.mjv_updateScene(model, data,opt,None,cam,1,scn)\n"
   ]
  },
  {
   "cell_type": "code",
   "execution_count": null,
   "metadata": {},
   "outputs": [],
   "source": []
  }
 ],
 "metadata": {
  "kernelspec": {
   "display_name": "Python 3.10.6 64-bit",
   "language": "python",
   "name": "python3"
  },
  "language_info": {
   "codemirror_mode": {
    "name": "ipython",
    "version": 3
   },
   "file_extension": ".py",
   "mimetype": "text/x-python",
   "name": "python",
   "nbconvert_exporter": "python",
   "pygments_lexer": "ipython3",
   "version": "3.10.6"
  },
  "orig_nbformat": 4,
  "vscode": {
   "interpreter": {
    "hash": "e7370f93d1d0cde622a1f8e1c04877d8463912d04d973331ad4851f04de6915a"
   }
  }
 },
 "nbformat": 4,
 "nbformat_minor": 2
}
