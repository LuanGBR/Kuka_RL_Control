{
 "cells": [
  {
   "cell_type": "code",
   "execution_count": 31,
   "metadata": {},
   "outputs": [],
   "source": [
    "import mujoco\n",
    "import random\n",
    "import os\n",
    "import numpy as np\n",
    "import matplotlib.pyplot as plt"
   ]
  },
  {
   "cell_type": "code",
   "execution_count": 2,
   "metadata": {},
   "outputs": [],
   "source": [
    "model = mujoco.MjModel.from_xml_path(\"/home/luangb/Documents/TCC/Kuka_RL_Control/environment.xml\")\n",
    "data = mujoco.MjData(model)"
   ]
  },
  {
   "cell_type": "code",
   "execution_count": 4,
   "metadata": {},
   "outputs": [],
   "source": [
    "data.ctrl[0] = .5 "
   ]
  },
  {
   "cell_type": "code",
   "execution_count": 59,
   "metadata": {},
   "outputs": [],
   "source": [
    "def step_input():\n",
    "    mujoco.mj_resetData(model, data)\n",
    "\n",
    "    data.actuator(\"a6_pos\").ctrl = np.pi\n",
    "    data.actuator(\"a6_vel\").ctrl = 5.0\n",
    "    result = {\"qpos\":[data.joint(\"joint_a6\").qpos], \"qvel\":[data.joint(\"joint_a6\").qvel], \"ctrlpos\":[data.ctrl[0]], \"ctrlvel\":[data.ctrl[1]], \"time\":[data.time]}\n",
    "    for _ in range(2000):\n",
    "        mujoco.mj_step(model,data)\n",
    "        result[\"qpos\"].append(data.qpos[0])\n",
    "        result[\"qvel\"].append(data.qvel[0])\n",
    "        result[\"ctrlpos\"].append(data.ctrl[0])\n",
    "        result[\"ctrlvel\"].append(data.ctrl[1])\n",
    "        result[\"time\"].append(data.time)\n",
    "        if data.ctrl[1] and np.abs(data.qpos[0]-np.pi) < 0.01:\n",
    "            data.ctrl[1]=0.0\n",
    "    return result\n"
   ]
  },
  {
   "cell_type": "code",
   "execution_count": 60,
   "metadata": {},
   "outputs": [
    {
     "data": {
      "image/png": "[encoded data removed]",
      "text/plain": [
       "<Figure size 432x288 with 1 Axes>"
      ]
     },
     "metadata": {
      "needs_background": "light"
     },
     "output_type": "display_data"
    }
   ],
   "source": [
    "#plot \n",
    "result = step_input()\n",
    "plt.plot(result[\"time\"], result[\"qpos\"], label=\"qpos\")\n",
    "plt.plot(result[\"time\"], result[\"qvel\"], label=\"qvel\")\n",
    "plt.plot(result[\"time\"], result[\"ctrlpos\"], label=\"ctrlpos\")\n",
    "plt.plot(result[\"time\"], result[\"ctrlvel\"], label=\"ctrlvel\")\n",
    "plt.legend()\n",
    "plt.show()"
   ]
  },
  {
   "cell_type": "code",
   "execution_count": 56,
   "metadata": {},
   "outputs": [
    {
     "data": {
      "text/plain": [
       "<mujoco._structs._MjDataActuatorViews at 0x7ff48ca0d730>"
      ]
     },
     "execution_count": 56,
     "metadata": {},
     "output_type": "execute_result"
    }
   ],
   "source": [
    "def set_ks(kp,kv):\n",
    "    xml_string=f\"\"\"<mujoco model=\"kuka_kr16_2\">\n",
    "\n",
    "    <asset>\n",
    "        <mesh name=\"base_link\" file=\"base_link.stl\" />\n",
    "        <mesh name=\"link_1\" file=\"link_1.stl\" />\n",
    "        <mesh name=\"link_2\" file=\"link_2.stl\" />\n",
    "        <mesh name=\"link_3\" file=\"link_3.stl\" />\n",
    "        <mesh name=\"link_4\" file=\"link_4.stl\" />\n",
    "        <mesh name=\"link_5\" file=\"link_5.stl\" />\n",
    "        <mesh name=\"link_6\" file=\"link_6.stl\" />\n",
    "        <mesh name=\"cestinho\" file=\"cestinho.stl\"  scale=\"0.001 0.001 0.001\"/>\n",
    "    </asset>\n",
    "\n",
    "\n",
    "    <worldbody>\n",
    "        <body name=\"base\">\n",
    "            <geom type=\"mesh\" mesh=\"base_link\" rgba=\"0.1 0.1 0.1 1\" />\n",
    "            <body name=\"link_1\" pos=\"0 0 0.675\" >\n",
    "                <!-- <inertial pos=\"0 0 0\" mass=\"0.000001\" diaginertia=\"0.01 0.01 0.01\" /> -->\n",
    "                <!-- <joint name=\"joint_a1\" pos=\"0 0 0\" axis=\"0 0 1\" limited=\"true\" range=\"-3.22886 3.22886\" /> -->\n",
    "                <geom type=\"mesh\" mesh=\"link_1\" rgba=\"0.95 0.36 0.1 1\"/>\n",
    "                <body name=\"link_2\" pos=\"0.26 0 0\">\n",
    "                    <!-- <inertial pos=\"0 0 0\" mass=\"0.000001\" diaginertia=\"0.01 0.01 0.01\" /> -->\n",
    "                    <!-- <joint name=\"joint_a2\" pos=\"0 0 0\" axis=\"0 1 0\" limited=\"true\" range=\"-2.70526 0.610865\"  /> -->\n",
    "                    <geom type=\"mesh\" mesh=\"link_2\" rgba=\"0.95 0.36 0.1 1\"/>\n",
    "                    <body name=\"link_3\" pos=\"0.68 0 0\">\n",
    "                        <!-- <inertial pos=\"0 0 0\" mass=\"0.000001\" diaginertia=\"0.01 0.01 0.01\" /> -->\n",
    "                        <!-- <joint name=\"joint_a3\" pos=\"0 0 0\" axis=\"0 1 0\" limited=\"true\" range=\"-2.26893 2.68781\" /> -->\n",
    "                        <geom type=\"mesh\" mesh=\"link_3\" rgba=\"0.95 0.36 0.1 1\"/>\n",
    "                        <body name=\"link_4\" pos=\"0.67 0 -0.035\">\n",
    "                            <!-- <inertial pos=\"0 0 0\" mass=\"0.000001\" diaginertia=\"0.01 0.01 0.01\" /> -->\n",
    "                            <!-- <joint name=\"joint_a4\" pos=\"0 0 0\" axis=\"-1 0 0\" limited=\"true\" range=\"-6.10865 6.10865\"/> -->\n",
    "                            <geom type=\"mesh\" mesh=\"link_4\" rgba=\"0.95 0.36 0.1 1\" />\n",
    "                            <body name=\"link_5\" pos=\"0 0 0\">\n",
    "                                <!-- <inertial pos=\"0 0 0\" mass=\"0.000001\" diaginertia=\"0.01 0.01 0.01\" /> -->\n",
    "                                <!-- <joint name=\"joint_a5\" pos=\"0 0 0\" axis=\"0 1 0\" limited=\"true\" range=\"-2.26893 2.26893\" /> -->\n",
    "                                <geom type=\"mesh\" mesh=\"link_5\" rgba=\"0.95 0.36 0.1 1\"/>\n",
    "                                <body name=\"link_6\" pos=\"0 0 0\">\n",
    "                                    <!-- <inertial pos=\"0 0 0\" mass=\"0.000001\" diaginertia=\"0.01 0.01 0.01\" /> -->\n",
    "                                    <joint name=\"joint_a6\" pos=\"0 0 0\" axis=\"-1 0 0\" limited=\"true\" range=\"-6.10865 6.10865\"  />\n",
    "                                    <geom type=\"mesh\" mesh=\"link_6\" rgba=\"0.95 0.36 0.1 1\"/>\n",
    "                                    <body name=\"cestinho\" pos=\"0.155 0 0\">\n",
    "                                        <!-- <inertial pos=\"0 0 0\" mass=\"0.000001\" diaginertia=\"0.01 0.01 0.01\" /> -->\n",
    "                                        <geom type=\"mesh\" mesh=\"cestinho\" rgba=\"0.95 0.36 0.1 1\" xyaxes=\"0 1 0 0 0 1\"/>\n",
    "                                    </body>\n",
    "                                </body>\n",
    "                            </body>\n",
    "                        </body>\n",
    "                    </body>\n",
    "                </body>\n",
    "            </body>\n",
    "        </body>\n",
    "    </worldbody>\n",
    "    <actuator >\n",
    "                <!-- <position name=\"a1_pos\" joint=\"joint_a1\" ctrllimited=\"true\" ctrlrange=\"-3.22886 3.22886\" gear=\"1\" kp=\"1\"/> -->\n",
    "                <!-- <position name=\"a2_pos\" joint=\"joint_a2\" ctrllimited=\"true\" ctrlrange=\"-2.70526 0.610865\" gear=\"1\" kp=\"1\"/> -->\n",
    "                <!-- <position name=\"a3_pos\" joint=\"joint_a3\" ctrllimited=\"true\" ctrlrange=\"-2.26893 2.68781\" gear=\"1\" kp=\"1\"/> -->\n",
    "                <!-- <position name=\"a4_pos\" joint=\"joint_a4\" ctrllimited=\"true\" ctrlrange=\"-6.10865 6.10865\" gear=\"1\" kp=\"1\"/> -->\n",
    "                <!-- <position name=\"a5_pos\" joint=\"joint_a5\" ctrllimited=\"true\" ctrlrange=\"-2.26893 2.26893\" gear=\"1\" kp=\"1\"/> -->\n",
    "                <position name=\"a6_pos\" joint=\"joint_a6\" ctrllimited=\"true\" ctrlrange=\"-6.10865 6.10865\" gear=\"1\" kp=\"{kp}\"/>\n",
    "\n",
    "                <!-- <velocity name=\"a1_vel\" joint=\"joint_a1\" ctrllimited=\"true\" ctrlrange=\"-2.72271363311 2.72271363311\" gear=\"1\" kv=\"1\"/> -->\n",
    "                <!-- <velocity name=\"a2_vel\" joint=\"joint_a2\" ctrllimited=\"true\" ctrlrange=\"-2.72271363311 2.72271363311\" gear=\"1\" kv=\"1\"/> -->\n",
    "                <!-- <velocity name=\"a3_vel\" joint=\"joint_a2\" ctrllimited=\"true\" ctrlrange=\"-2.72271363311 2.72271363311\" gear=\"1\" kv=\"1\"/> -->\n",
    "                <!-- <velocity name=\"a4_vel\" joint=\"joint_a4\" ctrllimited=\"true\" ctrlrange=\"-5.75958653158 5.75958653158\" gear=\"1\" kv=\"1\"/> -->\n",
    "                <!-- <velocity name=\"a5_vel\" joint=\"joint_a5\" ctrllimited=\"true\" ctrlrange=\"-5.75958653158 5.75958653158\" gear=\"1\" kv=\"1\"/> -->\n",
    "                <velocity name=\"a6_vel\" joint=\"joint_a6\" ctrllimited=\"true\" ctrlrange=\"-10.7337748998 10.7337748998\" gear=\"1\" kv=\"{kv}\"/>\n",
    "\n",
    "\n",
    "\n",
    "    </actuator>\n",
    "    <contact>\n",
    "        <exclude name=\"exclude_2_body_0\" body1=\"base\" body2=\"link_1\"/>\n",
    "        <exclude name=\"exclude_6_body_5\" body1=\"link_5\" body2=\"link_6\"/>\n",
    "       \n",
    "</contact>\n",
    "</mujoco>\n",
    "\n",
    "\"\"\"\n",
    "    with open(\"/home/luangb/Documents/TCC/Kuka_RL_Control/kr16_2.xml\", \"w\") as f:\n",
    "        f.write(xml)\n",
    "\n",
    "\n"
   ]
  },
  {
   "cell_type": "code",
   "execution_count": null,
   "metadata": {},
   "outputs": [],
   "source": []
  }
 ],
 "metadata": {
  "kernelspec": {
   "display_name": "Python 3.10.6 64-bit",
   "language": "python",
   "name": "python3"
  },
  "language_info": {
   "codemirror_mode": {
    "name": "ipython",
    "version": 3
   },
   "file_extension": ".py",
   "mimetype": "text/x-python",
   "name": "python",
   "nbconvert_exporter": "python",
   "pygments_lexer": "ipython3",
   "version": "3.10.6"
  },
  "orig_nbformat": 4,
  "vscode": {
   "interpreter": {
    "hash": "e7370f93d1d0cde622a1f8e1c04877d8463912d04d973331ad4851f04de6915a"
   }
  }
 },
 "nbformat": 4,
 "nbformat_minor": 2
}
